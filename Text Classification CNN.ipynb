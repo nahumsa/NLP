{
  "nbformat": 4,
  "nbformat_minor": 0,
  "metadata": {
    "colab": {
      "name": "Text-Classification-CNN.ipynb",
      "provenance": [],
      "collapsed_sections": [],
      "authorship_tag": "ABX9TyPWhDvIewd9STK9/nQ8AlRv",
      "include_colab_link": true
    },
    "kernelspec": {
      "name": "python3",
      "display_name": "Python 3"
    },
    "language_info": {
      "name": "python"
    }
  },
  "cells": [
    {
      "cell_type": "markdown",
      "metadata": {
        "id": "view-in-github",
        "colab_type": "text"
      },
      "source": [
        "<a href=\"https://colab.research.google.com/github/nahumsa/NLP/blob/main/Text%20Classification%20CNN.ipynb\" target=\"_parent\"><img src=\"https://colab.research.google.com/assets/colab-badge.svg\" alt=\"Open In Colab\"/></a>"
      ]
    },
    {
      "cell_type": "markdown",
      "metadata": {
        "id": "Q0BrGhGum--f"
      },
      "source": [
        "# Text Classification using a CNN\n",
        "This notebook is completely based on the keras.io [code examples](https://keras.io/examples/nlp/text_classification_from_scratch/)."
      ]
    },
    {
      "cell_type": "code",
      "metadata": {
        "id": "akLBW3QQwlJF"
      },
      "source": [
        "import tensorflow as tf\n",
        "import numpy as np"
      ],
      "execution_count": null,
      "outputs": []
    },
    {
      "cell_type": "markdown",
      "metadata": {
        "id": "6vbfA_opPM_L"
      },
      "source": [
        "# 1) Data"
      ]
    },
    {
      "cell_type": "markdown",
      "metadata": {
        "id": "XOuN0i4VnL6L"
      },
      "source": [
        "## 1.1) Downloading the data"
      ]
    },
    {
      "cell_type": "code",
      "metadata": {
        "colab": {
          "base_uri": "https://localhost:8080/"
        },
        "id": "10dj4OrxPRZl",
        "outputId": "fdc40814-ea5d-4898-ad74-9abb72a05126"
      },
      "source": [
        "!curl -O https://ai.stanford.edu/~amaas/data/sentiment/aclImdb_v1.tar.gz\n",
        "!tar -xf aclImdb_v1.tar.gz"
      ],
      "execution_count": null,
      "outputs": [
        {
          "output_type": "stream",
          "text": [
            "  % Total    % Received % Xferd  Average Speed   Time    Time     Time  Current\n",
            "                                 Dload  Upload   Total   Spent    Left  Speed\n",
            "100 80.2M  100 80.2M    0     0  15.8M      0  0:00:05  0:00:05 --:--:-- 19.9M\n"
          ],
          "name": "stdout"
        }
      ]
    },
    {
      "cell_type": "markdown",
      "metadata": {
        "id": "iSflTBD4Pf1Y"
      },
      "source": [
        "Let's only classify the positive and negative reviews, thus we need to delete the `unsup` folder."
      ]
    },
    {
      "cell_type": "code",
      "metadata": {
        "id": "iWSCapUkPtYA"
      },
      "source": [
        "!rm -r aclImdb/train/unsup"
      ],
      "execution_count": null,
      "outputs": []
    },
    {
      "cell_type": "markdown",
      "metadata": {
        "id": "ud5NKOSpPxIG"
      },
      "source": [
        "In order to generate the dataset that we will run and validate, we will use `tf.keras.preprocessing.text_dataset_from_directory`. We will split the train folder into a validation dataset and a training dataset."
      ]
    },
    {
      "cell_type": "markdown",
      "metadata": {
        "id": "HDTtWzCFnQhb"
      },
      "source": [
        "## 1.2) Generating the keras dataset"
      ]
    },
    {
      "cell_type": "code",
      "metadata": {
        "id": "sPmJDLdlQf8b"
      },
      "source": [
        "batch_size = 32\n",
        "raw_train_ds = tf.keras.preprocessing.text_dataset_from_directory(\n",
        "    \"aclImdb/train\",\n",
        "    batch_size=batch_size,\n",
        "    validation_split=0.2,\n",
        "    subset=\"training\",\n",
        "    seed=42,\n",
        ")\n",
        "raw_val_ds = tf.keras.preprocessing.text_dataset_from_directory(\n",
        "    \"aclImdb/train\",\n",
        "    batch_size=batch_size,\n",
        "    validation_split=0.2,\n",
        "    subset=\"validation\",\n",
        "    seed=42,\n",
        ")\n",
        "raw_test_ds = tf.keras.preprocessing.text_dataset_from_directory(\n",
        "    \"aclImdb/test\", \n",
        "    batch_size=batch_size,\n",
        ")\n",
        "\n",
        "print(\n",
        "    f\"# of batches in raw_train_ds: {tf.data.experimental.cardinality(raw_train_ds)}\"\n",
        "    )\n",
        "print(\n",
        "    f\"# of batches in raw_val_ds: {tf.data.experimental.cardinality(raw_val_ds)}\"\n",
        "    )\n",
        "print(\n",
        "    f\"# of batches in raw_test_ds: {tf.data.experimental.cardinality(raw_test_ds)}\"\n",
        "    )"
      ],
      "execution_count": null,
      "outputs": []
    },
    {
      "cell_type": "markdown",
      "metadata": {
        "id": "zSeht8X8Rbs2"
      },
      "source": [
        "Let's see some data points:"
      ]
    },
    {
      "cell_type": "code",
      "metadata": {
        "colab": {
          "base_uri": "https://localhost:8080/"
        },
        "id": "Q32S4Z9OR93l",
        "outputId": "17e76e0f-2f06-406d-93e7-caa3e62e5edd"
      },
      "source": [
        "for text_batch, label_batch in raw_train_ds.take(1):\n",
        "    for i in range(5):\n",
        "        print(text_batch.numpy()[i])\n",
        "        print(label_batch.numpy()[i])"
      ],
      "execution_count": null,
      "outputs": [
        {
          "output_type": "stream",
          "text": [
            "b'\"Pandemonium\" is a horror movie spoof that comes off more stupid than funny. Believe me when I tell you, I love comedies. Especially comedy spoofs. \"Airplane\", \"The Naked Gun\" trilogy, \"Blazing Saddles\", \"High Anxiety\", and \"Spaceballs\" are some of my favorite comedies that spoof a particular genre. \"Pandemonium\" is not up there with those films. Most of the scenes in this movie had me sitting there in stunned silence because the movie wasn\\'t all that funny. There are a few laughs in the film, but when you watch a comedy, you expect to laugh a lot more than a few times and that\\'s all this film has going for it. Geez, \"Scream\" had more laughs than this film and that was more of a horror film. How bizarre is that?<br /><br />*1/2 (out of four)'\n",
            "0\n",
            "b\"David Mamet is a very interesting and a very un-equal director. His first movie 'House of Games' was the one I liked best, and it set a series of films with characters whose perspective of life changes as they get into complicated situations, and so does the perspective of the viewer.<br /><br />So is 'Homicide' which from the title tries to set the mind of the viewer to the usual crime drama. The principal characters are two cops, one Jewish and one Irish who deal with a racially charged area. The murder of an old Jewish shop owner who proves to be an ancient veteran of the Israeli Independence war triggers the Jewish identity in the mind and heart of the Jewish detective.<br /><br />This is were the flaws of the film are the more obvious. The process of awakening is theatrical and hard to believe, the group of Jewish militants is operatic, and the way the detective eventually walks to the final violent confrontation is pathetic. The end of the film itself is Mamet-like smart, but disappoints from a human emotional perspective.<br /><br />Joe Mantegna and William Macy give strong performances, but the flaws of the story are too evident to be easily compensated.\"\n",
            "0\n",
            "b'Great documentary about the lives of NY firefighters during the worst terrorist attack of all time.. That reason alone is why this should be a must see collectors item.. What shocked me was not only the attacks, but the\"High Fat Diet\" and physical appearance of some of these firefighters. I think a lot of Doctors would agree with me that,in the physical shape they were in, some of these firefighters would NOT of made it to the 79th floor carrying over 60 lbs of gear. Having said that i now have a greater respect for firefighters and i realize becoming a firefighter is a life altering job. The French have a history of making great documentary\\'s and that is what this is, a Great Documentary.....'\n",
            "1\n",
            "b\"It's boggles the mind how this movie was nominated for seven Oscars and won one. Not because it's abysmal or because given the collective credentials of the creative team behind it really ought to deserve them but because in every category it was nominated Prizzi's Honor disappoints. Some would argue that old Hollywood pioneer John Huston had lost it by this point in his career but I don't buy it. Only the previous year he signed the superb UNDER THE VOLCANO, a dark character study set in Mexico, that ranks among the finest he ever did. Prizzi's Honor on the other hand, a film loaded with star power, good intentions and a decent script, proves to be a major letdown.<br /><br />The overall tone and plot of a gangster falling in love with a female hit-man prefigures the quirky crimedies that caught Hollywood by storm in the early 90's but the script is too convoluted for its own sake, the motivations are off and on the whole the story seems unsure of what exactly it's trying to be: a romantic comedy, a crime drama, a gangster saga etc. Jack Nicholson (doing a Brooklyn accent that works perfectly for De Niro but sounds unconvincing coming from Jack) and Kathleen Turner in the leading roles seem to be in paycheck mode, just going through the motions almost sleepwalking their way through some parts. Anjelica Huston on the other hand fares better but her performance is sabotaged by her character's motivations: she starts out the victim of her bigot father's disdain, she proves to be supportive to her ex-husband, then becomes a vindictive bitch that wants his head on a plate.<br /><br />The colours of the movie have a washed-up quality like it was made in the early 70's and Huston's direction is as uninteresting as everything else. There's promise behind the story and perhaps in the hands of a director hungry to be recognized it could've been morphed to something better but what's left looks like a film nobody was really interested in making.\"\n",
            "0\n",
            "b'The concept of the legal gray area in Love Crimes contributes to about 10% of the movie\\'s appeal; the other 90% can be attributed to it\\'s flagrant bad-ness. To say that Sean Young\\'s performance as a so-called district attorney is wooden is a gross understatement. With her bland suits and superfluous hair gel, Young does a decent job at convincing the audience of her devout hatred for men. Why else would she ask her only friend to pose as a prostitute just so she can arrest cops who try to pick up on them? This hatred is also the only reason why she relentlessly pursues a perverted photographer who gives women a consensual thrill and the driving force behind this crappy movie. Watching Young go from frigid to full-frontal nudity does little to raise interest, but the temper tantrum she throws standing next to a fire by a lake does. Watching her rant and rave about her self-loathing and sexual frustration makes Love Crimes worth the rental fee, but it\\'s all downhill to and from there. Despite her urge to bring Patrick Bergin\\'s character to justice, her policing skills completely escape her in the throes of her own tired lust and passion. Patrick Bergin does a decent enough job as a slimy sociopath; if it worked in Sleeping With the Enemy it sure as hell can work in this. But I can\\'t help but wonder if the noticeable lack of energy Young brings to the film conflicts with his sliminess. I\\'m guessing it does and the result is a \"thriller\" with thrills that are thoroughly bad and yet comedic.'\n",
            "0\n"
          ],
          "name": "stdout"
        }
      ]
    },
    {
      "cell_type": "markdown",
      "metadata": {
        "id": "T8iIcGAdnXuf"
      },
      "source": [
        "## 1.3) Data Preprocessing"
      ]
    },
    {
      "cell_type": "markdown",
      "metadata": {
        "id": "3Vq5XnWwSBHn"
      },
      "source": [
        "We see that there are some tags that  should not be on the text, for instance `<br />`. Let's clear the data from those tags by preprocessing our data."
      ]
    },
    {
      "cell_type": "code",
      "metadata": {
        "id": "3EGnvSJnSOed"
      },
      "source": [
        "import string\n",
        "import re\n",
        "\n",
        "def apply_standardization(input_data):\n",
        "    lower_case = tf.strings.lower(input_data)\n",
        "    without_html = tf.strings.regex_replace(lower_case, \"<br />\", \" \")\n",
        "    return tf.strings.regex_replace(\n",
        "        without_html, f\"[{re.escape(string.punctuation)}]\", \"\"\n",
        "    )"
      ],
      "execution_count": null,
      "outputs": []
    },
    {
      "cell_type": "markdown",
      "metadata": {
        "id": "Rzi2H36iTQR5"
      },
      "source": [
        "Let's define our `TextVectorization` layer, which is an embedding layer that will represent our text as a vector in a space with `embedding_dim` dimension.\n",
        "\n",
        "In this layer we will also define a maximum sequence lenght in order to fit our CNN model."
      ]
    },
    {
      "cell_type": "code",
      "metadata": {
        "id": "mIw9F5q7TkET"
      },
      "source": [
        "from tensorflow.keras.layers.experimental.preprocessing import TextVectorization\n",
        "\n",
        "max_features = 20000\n",
        "embedding_dim = 128\n",
        "sequence_length = 500\n",
        "\n",
        "\n",
        "vectorize_layer = TextVectorization(\n",
        "    standardize=apply_standardization,\n",
        "    max_tokens=max_features,\n",
        "    output_mode=\"int\",\n",
        "    output_sequence_length=sequence_length,\n",
        ")\n",
        "\n",
        "text_ds = raw_train_ds.map(lambda x, y: x)\n",
        "vectorize_layer.adapt(text_ds)"
      ],
      "execution_count": null,
      "outputs": []
    },
    {
      "cell_type": "markdown",
      "metadata": {
        "id": "ScbjGjcxVj8H"
      },
      "source": [
        "Let's vectorize the data using asychronous CPU processing and buffering of the data in order to rain on GPUs. However, if we would export this model to production we need to accept raw strings as inputs, which will be done at the end of the training."
      ]
    },
    {
      "cell_type": "code",
      "metadata": {
        "id": "aCESRiyQXW7F"
      },
      "source": [
        "def vectorize_text(text, label):\n",
        "    text = tf.expand_dims(text, axis=-1)\n",
        "    return vectorize_layer(text), label\n",
        "\n",
        "train_ds = raw_train_ds.map(vectorize_text)\n",
        "val_ds = raw_val_ds.map(vectorize_text)\n",
        "test_ds = raw_test_ds.map(vectorize_text)\n",
        "\n",
        "train_ds = train_ds.cache().prefetch(buffer_size=10)\n",
        "val_ds = val_ds.cache().prefetch(buffer_size=10)\n",
        "test_ds = test_ds.cache().prefetch(buffer_size=10)"
      ],
      "execution_count": null,
      "outputs": []
    },
    {
      "cell_type": "markdown",
      "metadata": {
        "id": "ZwMW7MzlngmR"
      },
      "source": [
        "# 2) Building the CNN model"
      ]
    },
    {
      "cell_type": "markdown",
      "metadata": {
        "id": "FBk3MrQbnmXY"
      },
      "source": [
        "## 2.1) Constructing the model"
      ]
    },
    {
      "cell_type": "code",
      "metadata": {
        "id": "kW_DgOrGazFN"
      },
      "source": [
        "from tensorflow.keras import layers\n",
        "\n",
        "inputs = tf.keras.Input(shape=(None,),\n",
        "                        dtype=\"int64\",\n",
        "                        name=\"input\")\n",
        "\n",
        "x = layers.Embedding(max_features,\n",
        "                     embedding_dim,\n",
        "                     name=\"embedding\")(inputs)\n",
        "\n",
        "x = layers.Dropout(0.5,\n",
        "                   name=\"droput_1\")(x)\n",
        "\n",
        "x = layers.Conv1D(128, \n",
        "                  7,\n",
        "                  padding=\"valid\",\n",
        "                  activation=\"relu\",\n",
        "                  strides=3,\n",
        "                  name=\"conv_1\")(x)\n",
        "\n",
        "x = layers.Conv1D(128, \n",
        "                  7,\n",
        "                  padding=\"valid\",\n",
        "                  activation=\"relu\",\n",
        "                  strides=3,\n",
        "                  name=\"conv_2\")(x)\n",
        "\n",
        "x = layers.GlobalMaxPooling1D()(x)\n",
        "\n",
        "x = layers.Dense(128,\n",
        "                 activation=\"relu\",\n",
        "                 name=\"dense_1\")(x)\n",
        "x = layers.Dropout(0.5,\n",
        "                   name=\"droput_2\")(x)\n",
        "\n",
        "outputs = layers.Dense(1,\n",
        "                       activation=\"sigmoid\",\n",
        "                       name=\"output\")(x)\n",
        "\n",
        "model = tf.keras.Model(inputs, outputs,\n",
        "                       name=\"CNN\")\n",
        "\n",
        "# Compile the model\n",
        "model.compile(loss=\"binary_crossentropy\",\n",
        "              optimizer=\"adam\",\n",
        "              metrics=[\"accuracy\"])"
      ],
      "execution_count": null,
      "outputs": []
    },
    {
      "cell_type": "code",
      "metadata": {
        "colab": {
          "base_uri": "https://localhost:8080/"
        },
        "id": "cgxEOVKSc3Ov",
        "outputId": "d73d8dfc-895d-433f-d5dc-3184133a58da"
      },
      "source": [
        "model.summary()"
      ],
      "execution_count": null,
      "outputs": [
        {
          "output_type": "stream",
          "text": [
            "Model: \"CNN\"\n",
            "_________________________________________________________________\n",
            "Layer (type)                 Output Shape              Param #   \n",
            "=================================================================\n",
            "input (InputLayer)           [(None, None)]            0         \n",
            "_________________________________________________________________\n",
            "embedding (Embedding)        (None, None, 128)         2560000   \n",
            "_________________________________________________________________\n",
            "droput_1 (Dropout)           (None, None, 128)         0         \n",
            "_________________________________________________________________\n",
            "conv_1 (Conv1D)              (None, None, 128)         114816    \n",
            "_________________________________________________________________\n",
            "conv_2 (Conv1D)              (None, None, 128)         114816    \n",
            "_________________________________________________________________\n",
            "global_max_pooling1d_8 (Glob (None, 128)               0         \n",
            "_________________________________________________________________\n",
            "dense_1 (Dense)              (None, 128)               16512     \n",
            "_________________________________________________________________\n",
            "droput_2 (Dropout)           (None, 128)               0         \n",
            "_________________________________________________________________\n",
            "output (Dense)               (None, 1)                 129       \n",
            "=================================================================\n",
            "Total params: 2,806,273\n",
            "Trainable params: 2,806,273\n",
            "Non-trainable params: 0\n",
            "_________________________________________________________________\n"
          ],
          "name": "stdout"
        }
      ]
    },
    {
      "cell_type": "markdown",
      "metadata": {
        "id": "jw5-GbIOcIVZ"
      },
      "source": [
        "## 2.2) Training the model"
      ]
    },
    {
      "cell_type": "code",
      "metadata": {
        "colab": {
          "base_uri": "https://localhost:8080/"
        },
        "id": "zmx8PGenb87m",
        "outputId": "e7e151aa-4efd-478f-caa1-e03992a5eb2e"
      },
      "source": [
        "epochs = 5\n",
        "\n",
        "history = model.fit(train_ds,\n",
        "                    validation_data=val_ds,\n",
        "                    epochs=epochs\n",
        "                    )"
      ],
      "execution_count": null,
      "outputs": [
        {
          "output_type": "stream",
          "text": [
            "Epoch 1/3\n",
            "625/625 [==============================] - 120s 191ms/step - loss: 0.6073 - accuracy: 0.6087 - val_loss: 0.3163 - val_accuracy: 0.8664\n",
            "Epoch 2/3\n",
            "625/625 [==============================] - 114s 183ms/step - loss: 0.2665 - accuracy: 0.8940 - val_loss: 0.3087 - val_accuracy: 0.8784\n",
            "Epoch 3/3\n",
            "625/625 [==============================] - 114s 183ms/step - loss: 0.1399 - accuracy: 0.9494 - val_loss: 0.5124 - val_accuracy: 0.8432\n"
          ],
          "name": "stdout"
        }
      ]
    },
    {
      "cell_type": "code",
      "metadata": {
        "colab": {
          "base_uri": "https://localhost:8080/",
          "height": 512
        },
        "id": "uhARQHQccXZG",
        "outputId": "b28b5f5e-70bc-4322-f551-7c969c478e73"
      },
      "source": [
        "import matplotlib.pyplot as plt\n",
        "\n",
        "train_loss = history.history['loss']\n",
        "train_accuracy = history.history['accuracy']\n",
        "val_loss = history.history['val_loss']\n",
        "val_accuracy = history.history['val_accuracy']\n",
        "\n",
        "epochs = range(len(train_loss))\n",
        "plt.plot(epochs, train_loss, label=\"train\")\n",
        "plt.plot(epochs, val_loss, label=\"validation\")\n",
        "plt.legend()\n",
        "plt.show()\n",
        "\n",
        "epochs = range(len(train_loss))\n",
        "plt.plot(epochs, train_accuracy, label=\"train\")\n",
        "plt.plot(epochs, val_accuracy, label=\"validation\")\n",
        "plt.legend()\n",
        "plt.show()"
      ],
      "execution_count": null,
      "outputs": [
        {
          "output_type": "display_data",
          "data": {
            "image/png": "[encoded data removed]",
            "text/plain": [
              "<Figure size 432x288 with 1 Axes>"
            ]
          },
          "metadata": {
            "tags": [],
            "needs_background": "light"
          }
        },
        {
          "output_type": "display_data",
          "data": {
            "image/png": "[encoded data removed]",
            "text/plain": [
              "<Figure size 432x288 with 1 Axes>"
            ]
          },
          "metadata": {
            "tags": [],
            "needs_background": "light"
          }
        }
      ]
    },
    {
      "cell_type": "markdown",
      "metadata": {
        "id": "_TgDPUPRoSV4"
      },
      "source": [
        "We see that the model overfits, we should fix that!"
      ]
    },
    {
      "cell_type": "code",
      "metadata": {
        "colab": {
          "base_uri": "https://localhost:8080/"
        },
        "id": "X7hboY2Cfdjo",
        "outputId": "2c96f12d-087f-4463-e61f-4ff77ff87071"
      },
      "source": [
        "test_loss, test_acc = model.evaluate(test_ds)"
      ],
      "execution_count": null,
      "outputs": [
        {
          "output_type": "stream",
          "text": [
            "782/782 [==============================] - 26s 34ms/step - loss: 0.6127 - accuracy: 0.8155\n"
          ],
          "name": "stdout"
        }
      ]
    },
    {
      "cell_type": "markdown",
      "metadata": {
        "id": "XaqX_K9rgL3K"
      },
      "source": [
        "# 3) Creating a model that can be deployed"
      ]
    },
    {
      "cell_type": "code",
      "metadata": {
        "colab": {
          "base_uri": "https://localhost:8080/"
        },
        "id": "oHcsVqS0hIgJ",
        "outputId": "24008d0b-e203-4bcd-b32f-fae4109c7111"
      },
      "source": [
        "inputs = tf.keras.Input(shape=(1,), dtype=\"string\")\n",
        "# Convert to vocab indices\n",
        "indices = vectorize_layer(inputs)\n",
        "# Convert to predictions of a CNN\n",
        "outputs = model(indices)\n",
        "\n",
        "\n",
        "deploy_model = tf.keras.Model(inputs, outputs)\n",
        "deploy_model.compile(\n",
        "    loss=\"binary_crossentropy\",\n",
        "    optimizer=\"adam\",\n",
        "    metrics=[\"accuracy\"],\n",
        ")\n",
        "\n",
        "deploy_loss, deploy_acc = deploy_model.evaluate(raw_test_ds)"
      ],
      "execution_count": null,
      "outputs": [
        {
          "output_type": "stream",
          "text": [
            "782/782 [==============================] - 36s 45ms/step - loss: 0.6157 - accuracy: 0.8158\n"
          ],
          "name": "stdout"
        }
      ]
    },
    {
      "cell_type": "code",
      "metadata": {
        "id": "60hXx60FhmU4"
      },
      "source": [
        "# assert the loss and accuracy on the training model and the deploy\n",
        "# model\n",
        "assert deploy_acc == test_acc, \"Deploy and test doesn't match\"\n",
        "assert deploy_loss == test_loss, \"Deploy and test doesn't match\""
      ],
      "execution_count": null,
      "outputs": []
    },
    {
      "cell_type": "markdown",
      "metadata": {
        "id": "DJiYsmSunxkE"
      },
      "source": [
        "# 4) Testing our model"
      ]
    },
    {
      "cell_type": "code",
      "metadata": {
        "id": "KsIlE745ijtt"
      },
      "source": [
        "sad_text = \"I'm is sad!\"\n",
        "great_text = \"I'm Great!\"\n",
        "happy_text = \"I'm happy!\"\n",
        "pred_sad = deploy_model.predict([str.encode(sad_text)])[0]\n",
        "pred_great = deploy_model.predict([str.encode(great_text)])[0]\n",
        "pred_happy = deploy_model.predict([str.encode(pred_happy)])[0]"
      ],
      "execution_count": null,
      "outputs": []
    },
    {
      "cell_type": "code",
      "metadata": {
        "colab": {
          "base_uri": "https://localhost:8080/",
          "height": 191
        },
        "id": "FOEsEizLim2c",
        "outputId": "2517dccb-12f0-4506-a7a3-3da42cc2896e"
      },
      "source": [
        "assert pred_sad < 0.5, \"Sad prediction incorrect\"\n",
        "assert pred_great > 0.5, \"Great prediction incorrect\"\n",
        "assert pred_happy > 0.5, \"Happy prediction incorrect\""
      ],
      "execution_count": null,
      "outputs": [
        {
          "output_type": "error",
          "ename": "AssertionError",
          "evalue": "ignored",
          "traceback": [
            "\u001b[0;31m---------------------------------------------------------------------------\u001b[0m",
            "\u001b[0;31mAssertionError\u001b[0m                            Traceback (most recent call last)",
            "\u001b[0;32m<ipython-input-79-7081a1fc77fa>\u001b[0m in \u001b[0;36m<module>\u001b[0;34m()\u001b[0m\n\u001b[1;32m      1\u001b[0m \u001b[0;32massert\u001b[0m \u001b[0mpred_sad\u001b[0m \u001b[0;34m<\u001b[0m \u001b[0;36m0.5\u001b[0m\u001b[0;34m,\u001b[0m \u001b[0;34m\"Sad prediction incorrect\"\u001b[0m\u001b[0;34m\u001b[0m\u001b[0;34m\u001b[0m\u001b[0m\n\u001b[1;32m      2\u001b[0m \u001b[0;32massert\u001b[0m \u001b[0mpred_great\u001b[0m \u001b[0;34m>\u001b[0m \u001b[0;36m0.5\u001b[0m\u001b[0;34m,\u001b[0m \u001b[0;34m\"Great prediction incorrect\"\u001b[0m\u001b[0;34m\u001b[0m\u001b[0;34m\u001b[0m\u001b[0m\n\u001b[0;32m----> 3\u001b[0;31m \u001b[0;32massert\u001b[0m \u001b[0mpred_happy\u001b[0m \u001b[0;34m>\u001b[0m \u001b[0;36m0.5\u001b[0m\u001b[0;34m,\u001b[0m \u001b[0;34m\"Happy prediction incorrect\"\u001b[0m\u001b[0;34m\u001b[0m\u001b[0;34m\u001b[0m\u001b[0m\n\u001b[0m",
            "\u001b[0;31mAssertionError\u001b[0m: Happy prediction incorrect"
          ]
        }
      ]
    },
    {
      "cell_type": "markdown",
      "metadata": {
        "id": "CG3k-Rfsj56O"
      },
      "source": [
        "We can see that our model performs poorly when we are using this dataset and we want the model to predict simple things such as saying that \"I'm sad\" is negative."
      ]
    }
  ]
}